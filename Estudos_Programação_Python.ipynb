{
  "nbformat": 4,
  "nbformat_minor": 0,
  "metadata": {
    "colab": {
      "provenance": [],
      "authorship_tag": "ABX9TyPSRfhNLsirJli6TO7E6A1h",
      "include_colab_link": true
    },
    "kernelspec": {
      "name": "python3",
      "display_name": "Python 3"
    },
    "language_info": {
      "name": "python"
    }
  },
  "cells": [
    {
      "cell_type": "markdown",
      "metadata": {
        "id": "view-in-github",
        "colab_type": "text"
      },
      "source": [
        "<a href=\"https://colab.research.google.com/github/gsuelens/Programacao_Python/blob/main/Estudos_Programa%C3%A7%C3%A3o_Python.ipynb\" target=\"_parent\"><img src=\"https://colab.research.google.com/assets/colab-badge.svg\" alt=\"Open In Colab\"/></a>"
      ]
    },
    {
      "cell_type": "markdown",
      "source": [
        "## **Estudos de práticas em Python**\n",
        "\n",
        " Área de exploração dedicada ao aprendizado e aprimoramento das habilidades na linguagem de programação Python. Os estudos visam não apenas a compreensão dos conceitos fundamentais da linguagem, como sintaxe, estruturas de dados e paradigmas de programação, mas também o desenvolvimento de habilidades práticas na resolução de problemas do mundo real. Isso pode incluir a implementação de algoritmos, o desenvolvimento de aplicativos web, a automação de tarefas, análise de dados e muito mais."
      ],
      "metadata": {
        "id": "65Kq0QWM6yVb"
      }
    },
    {
      "cell_type": "markdown",
      "source": [
        "# Nova seção"
      ],
      "metadata": {
        "id": "gtThwZWUUMgo"
      }
    },
    {
      "cell_type": "code",
      "execution_count": null,
      "metadata": {
        "id": "e0Jkw-hKnG5H",
        "colab": {
          "base_uri": "https://localhost:8080/"
        },
        "outputId": "f30e191b-e38e-40ed-e1cc-f660a5445011"
      },
      "outputs": [
        {
          "output_type": "stream",
          "name": "stdout",
          "text": [
            "1 2 3\n"
          ]
        }
      ],
      "source": [
        "#Nomeação de variaveis\n",
        "Laranja, melao, limao = 1,2,3\n",
        "\n",
        "print(Laranja, melao, limao)"
      ]
    },
    {
      "cell_type": "code",
      "source": [],
      "metadata": {
        "id": "lJos_KU3NBF8"
      },
      "execution_count": null,
      "outputs": []
    },
    {
      "cell_type": "code",
      "source": [
        "morango = uva = kiwi = 100\n",
        "print(morango, uva, kiwi)"
      ],
      "metadata": {
        "colab": {
          "base_uri": "https://localhost:8080/"
        },
        "id": "g1SIgbaCyMb9",
        "outputId": "3e71d7d6-0144-4779-911c-95408f33569c"
      },
      "execution_count": null,
      "outputs": [
        {
          "output_type": "stream",
          "name": "stdout",
          "text": [
            "100 100 100\n"
          ]
        }
      ]
    },
    {
      "cell_type": "code",
      "source": [
        "#Nomear listas\n",
        "lista_carros = ['w','audi','tesla']\n",
        "marca_01, marca_02, marca_03 = lista_carros\n",
        "print (lista_carros)"
      ],
      "metadata": {
        "colab": {
          "base_uri": "https://localhost:8080/"
        },
        "id": "R10uU7OlyS63",
        "outputId": "36a67edf-75d6-4890-8e5d-e79b1e3c849c"
      },
      "execution_count": null,
      "outputs": [
        {
          "output_type": "stream",
          "name": "stdout",
          "text": [
            "['w', 'audi', 'tesla']\n"
          ]
        }
      ]
    },
    {
      "cell_type": "code",
      "source": [
        "#combinar variveis\n",
        "Nome = 'Suelen'\n",
        "Sobrenome = 'Soares'\n",
        "Nome_Completo = Nome + ' ' + Sobrenome\n",
        "print (Nome_Completo)"
      ],
      "metadata": {
        "colab": {
          "base_uri": "https://localhost:8080/"
        },
        "id": "C7sK0Gizyugk",
        "outputId": "1544ab26-e665-4b30-8ea6-62baad3feb9b"
      },
      "execution_count": null,
      "outputs": [
        {
          "output_type": "stream",
          "name": "stdout",
          "text": [
            "Suelen Soares\n"
          ]
        }
      ]
    },
    {
      "cell_type": "code",
      "source": [
        "#Experimento\n",
        "Nome = 'Suelen'\n",
        "Idade = str (31)\n",
        "Nome_idade =  Nome + Idade + ' anos'\n",
        "print (Nome_idade)"
      ],
      "metadata": {
        "colab": {
          "base_uri": "https://localhost:8080/"
        },
        "id": "dyiwHe9ezRNU",
        "outputId": "74485c16-1253-4002-a2ae-7f9867f1c372"
      },
      "execution_count": null,
      "outputs": [
        {
          "output_type": "stream",
          "name": "stdout",
          "text": [
            "Suelen31 anos\n"
          ]
        }
      ]
    },
    {
      "cell_type": "code",
      "source": [
        "# 07 Aula\n",
        "string = str('Olá Mundo')\n",
        "Inteiro = int(31)\n",
        "Flutuante = float(100.5)\n",
        "Complex = complex (1j)\n",
        "Lista = list( ('Uva', 'Morango'))\n",
        "Tupla = tuple (('A', 'B'))\n",
        "Range =  range(6)\n",
        "Dicionario = dict (nome = 'suelen', age=30)\n",
        "Set = set (('A', 'B', 'C'))\n",
        "Fronzet = frozenset (('A','B','C'))\n",
        "Boleano = bool (5)\n",
        "Bytes = bytes(5)\n",
        "Bytearray = bytearray ( 5 )\n",
        "\n",
        "\n",
        "from datetime import datetime\n",
        "Data  = datetime.today().date()"
      ],
      "metadata": {
        "id": "xHwTbhvb0LVt"
      },
      "execution_count": null,
      "outputs": []
    },
    {
      "cell_type": "code",
      "source": [
        "# 8 Comando Roud\n",
        "Valor_Exemplo = 12.123456789\n",
        "print (Valor_Exemplo)\n",
        "round (Valor_Exemplo)"
      ],
      "metadata": {
        "id": "QdoRYI5F2UXJ",
        "colab": {
          "base_uri": "https://localhost:8080/"
        },
        "outputId": "96e45c48-e670-49d3-c227-0e7c53aff760"
      },
      "execution_count": null,
      "outputs": [
        {
          "output_type": "stream",
          "name": "stdout",
          "text": [
            "12.123456789\n"
          ]
        }
      ]
    },
    {
      "cell_type": "code",
      "source": [
        "# 9 Comando len\n",
        "\n",
        "Lista = [1,2,3,4,5,6,7,8,9,10]\n",
        "Dicionario = {'Nome':'Suelen','Idade':31}\n",
        "Tupla = (1,2,3)\n",
        "String = 'Olá Su!'\n",
        "\n",
        "len(String)"
      ],
      "metadata": {
        "colab": {
          "base_uri": "https://localhost:8080/"
        },
        "id": "WDfwen_RD9uM",
        "outputId": "aedbb9ee-c26f-4e8c-b2cb-9cbd561c4537"
      },
      "execution_count": null,
      "outputs": [
        {
          "output_type": "execute_result",
          "data": {
            "text/plain": [
              "7"
            ]
          },
          "metadata": {},
          "execution_count": 14
        }
      ]
    },
    {
      "cell_type": "code",
      "source": [
        "# 10 Fatiamento de Strings\n",
        "Minha_String = 'Aprender Python é Top'\n",
        "\n",
        "print ( type(Minha_String ))\n",
        "print ( len(Minha_String))\n",
        "\n",
        "Minha_String[0:8] #Pega o numero da posição da letra dentro da string"
      ],
      "metadata": {
        "colab": {
          "base_uri": "https://localhost:8080/",
          "height": 70
        },
        "id": "yuRYgs8YFxNU",
        "outputId": "89a1b0e9-db14-47a7-c4a2-c418939a1fec"
      },
      "execution_count": null,
      "outputs": [
        {
          "output_type": "stream",
          "name": "stdout",
          "text": [
            "<class 'str'>\n",
            "21\n"
          ]
        },
        {
          "output_type": "execute_result",
          "data": {
            "text/plain": [
              "'Aprender'"
            ],
            "application/vnd.google.colaboratory.intrinsic+json": {
              "type": "string"
            }
          },
          "metadata": {},
          "execution_count": 22
        }
      ]
    },
    {
      "cell_type": "code",
      "source": [
        "# 11 Manipulação de String\n",
        "\n",
        "String = 'Olá Mundão!'\n",
        "print(String)\n",
        "\n",
        "\n",
        "#Replace: Substituir\n",
        "String.replace('Mundão','Mundo')\n",
        "\n",
        "#Startswith: Verifica o começo\n",
        "String.startswith('Olá')\n",
        "\n",
        "#Endswith: Verifica o Final\n",
        "String.endswith('dão!')\n",
        "\n",
        "#Count: Contar Palavras ou letras\n",
        "String.count('n')\n",
        "\n",
        "#Capitalize: Tranforma o texto\n",
        "Nome = 'suelen'\n",
        "Nome.capitalize()\n",
        "\n",
        "# Isdigit: Verifica se existe digito (numerico) dentro de strig\n",
        "String_CPF = '123456789'\n",
        "String_CPF.isdigit()\n"
      ],
      "metadata": {
        "colab": {
          "base_uri": "https://localhost:8080/"
        },
        "id": "H_VmVZPXIYDh",
        "outputId": "708859cb-de85-4731-ad17-02fa48d0d400"
      },
      "execution_count": null,
      "outputs": [
        {
          "output_type": "stream",
          "name": "stdout",
          "text": [
            "Olá Mundão!\n"
          ]
        },
        {
          "output_type": "execute_result",
          "data": {
            "text/plain": [
              "True"
            ]
          },
          "metadata": {},
          "execution_count": 41
        }
      ]
    },
    {
      "cell_type": "code",
      "source": [
        "\n",
        "# 12 Comando Input\n",
        "\n",
        "input('Alguma mensagem')\n",
        "\n",
        "#Criando um formulario\n",
        "\n",
        "Nome = input('Qual seu nome?')\n",
        "Idade = input('Qual a sua idade?')\n",
        "\n",
        "print ('Seu nome é:', Nome)\n",
        "print ('Sua idade é:', Idade)"
      ],
      "metadata": {
        "colab": {
          "base_uri": "https://localhost:8080/"
        },
        "id": "X25-OimiIpb5",
        "outputId": "be711ab1-ba4c-4efb-cb40-d519684531dc"
      },
      "execution_count": null,
      "outputs": [
        {
          "output_type": "stream",
          "name": "stdout",
          "text": [
            "Alguma mensagemoi\n",
            "Qual seu nome?su\n",
            "Qual a sua idade?31\n",
            "Seu nome é: su\n",
            "Sua idade é: 31\n"
          ]
        }
      ]
    },
    {
      "cell_type": "code",
      "source": [
        "# 13 Operadores de Comparação\n",
        "\n",
        "10 == 10\n",
        "10 == 8\n",
        "10 != 8\n",
        "10 != 10\n",
        "10 > 9\n",
        "10 < 2\n",
        "10 <= 5\n",
        "10 >= 50"
      ],
      "metadata": {
        "colab": {
          "base_uri": "https://localhost:8080/"
        },
        "id": "GAZg87IzNbKJ",
        "outputId": "4da583d2-8174-4f7a-c06f-24adc6baee72"
      },
      "execution_count": null,
      "outputs": [
        {
          "output_type": "execute_result",
          "data": {
            "text/plain": [
              "False"
            ]
          },
          "metadata": {},
          "execution_count": 54
        }
      ]
    },
    {
      "cell_type": "code",
      "source": [
        "#14 Operadores Lógicos\n",
        "\n",
        "#AND - As duas validações tem que ser verdadeiras\n",
        "10 > 2 and 10 > 3\n",
        "10 > 2 and 10 > 20\n",
        "\n",
        "#OR - Apenas uma das duas tem que ser verdadeiras\n",
        "10 > 2 or 10 > 20\n",
        "10 == 2 or 10 < 20\n",
        "\n",
        "#NOT - Retorna se o FALSE for verdadeiro\n",
        "lista =[1, 2, 3, 4]\n",
        "2 in lista\n",
        "10 not in lista"
      ],
      "metadata": {
        "colab": {
          "base_uri": "https://localhost:8080/"
        },
        "id": "n6zLWFpENDRI",
        "outputId": "9910e309-7b9d-4997-824d-dbf7b7c9e182"
      },
      "execution_count": null,
      "outputs": [
        {
          "output_type": "execute_result",
          "data": {
            "text/plain": [
              "True"
            ]
          },
          "metadata": {},
          "execution_count": 9
        }
      ]
    },
    {
      "cell_type": "code",
      "source": [
        "#15 - Operadores de Indentidade\n",
        "String_01 = 'Olá Mundão!'\n",
        "String_02 = \"Olá Mundão!\"\n",
        "type(String_01) is not type (String_02)"
      ],
      "metadata": {
        "colab": {
          "base_uri": "https://localhost:8080/"
        },
        "id": "2wG3fJFyaQSz",
        "outputId": "f31652f1-3a92-4c6f-ebf6-c24b668a5806"
      },
      "execution_count": null,
      "outputs": [
        {
          "output_type": "execute_result",
          "data": {
            "text/plain": [
              "False"
            ]
          },
          "metadata": {},
          "execution_count": 10
        }
      ]
    },
    {
      "cell_type": "code",
      "source": [
        "#16 - Operadores de Associação\n",
        "Lista_Ações = ['Magalu','Via', 'Carrefur']\n",
        "'Via' in Lista_Ações\n",
        "'Via' not in Lista_Ações"
      ],
      "metadata": {
        "colab": {
          "base_uri": "https://localhost:8080/"
        },
        "id": "lODMjTjacr0u",
        "outputId": "aaa7fc2e-08fd-47af-b449-27e1a8aad058"
      },
      "execution_count": null,
      "outputs": [
        {
          "output_type": "execute_result",
          "data": {
            "text/plain": [
              "False"
            ]
          },
          "metadata": {},
          "execution_count": 13
        }
      ]
    },
    {
      "cell_type": "code",
      "source": [
        "#Manupulação de Listas\n",
        "\n",
        "Lista_Vazia = []\n",
        "print(Lista_Vazia)\n",
        "\n",
        "#appedn - Para adicionar um item ao final da lista\n",
        "Lista_Vazia.append( 1 )\n",
        "Lista_Vazia.append( 2 )\n",
        "Lista_Vazia.append( 3 )\n",
        "Lista_Vazia.append( 'Valor')\n",
        "\n",
        "Lista_Vazia[2] #Acessar Lista\n",
        "\n",
        "#clean() - Limpar lista\n",
        "print(Lista_Vazia)\n",
        "Lista_Vazia.clear()\n",
        "print(Lista_Vazia)\n",
        "\n",
        "#insert() - Para inserir um item de lista em um índice especifico\n",
        "Lista_Vazia.insert(0,'2,5')\n",
        "Lista_Vazia\n",
        "\n",
        "#extend() - Anexar elementos de outra lista á lista atual\n",
        "Lista_01 = [ 1, 2, 3]\n",
        "Lista_02 = [ 4, 5, 6]\n",
        "Lista_01.extend(Lista_02)\n",
        "Lista_01\n",
        "\n",
        "#remove() - Remove o item especificado\n",
        "Lista_01.remove(1)\n",
        "Lista_01\n",
        "\n",
        "#pop() - Remove o índice especificado\n",
        "Lista_01.pop(0)\n",
        "Lista_01\n",
        "\n",
        "#sort() - Ordenar os valores\n",
        "Lista_ABC = ['V', 'S', 'G', 'M']\n",
        "Lista_ABC.sort()\n",
        "Lista_ABC\n",
        "\n",
        "#copy() - Fazer uma copia da lista\n",
        "Lista_Nova = Lista_ABC.copy()\n",
        "Lista_Nova\n",
        "\n",
        "#index() - Retorna o index do elemento da lista\n",
        "Lista_Nova.index('M')"
      ],
      "metadata": {
        "colab": {
          "base_uri": "https://localhost:8080/"
        },
        "id": "uK2IaTwjeygl",
        "outputId": "e786e9cc-9e56-4681-f9b8-79aec9b593c0"
      },
      "execution_count": null,
      "outputs": [
        {
          "output_type": "stream",
          "name": "stdout",
          "text": [
            "[]\n",
            "[1, 2, 3, 'Valor']\n",
            "[]\n"
          ]
        },
        {
          "output_type": "execute_result",
          "data": {
            "text/plain": [
              "1"
            ]
          },
          "metadata": {},
          "execution_count": 54
        }
      ]
    },
    {
      "cell_type": "code",
      "source": [
        "#18 - Pacote Externo - Datetime\n",
        "type ('01/01/2024')\n",
        "\n",
        "import datetime #Importa o pacote\n",
        "\n",
        "Dia_Hoje = datetime.datetime.today()\n",
        "print (Dia_Hoje)\n",
        "\n",
        "type(Dia_Hoje)\n",
        "\n",
        "print (datetime.datetime.today().date())\n",
        "\n",
        "Data = (datetime.datetime.today().date())\n",
        "Ano = Data.year\n",
        "Mes = Data.month\n",
        "Dia = Data.day\n",
        "print (Ano, Mes, Dia)\n",
        "\n",
        "#Construindo uma data\n",
        "Data_Antiga = datetime.date(2022, 1, 1)\n",
        "Data_Antiga\n",
        "\n",
        "#Fazendo calculo com data\n",
        "Data - Data_Antiga\n",
        "\n",
        "#Ajustar formato da data\n",
        "Data.strftime('%d/%m/%y')\n",
        "\n",
        "#Somar data\n",
        "Data + datetime.timedelta(days=30)"
      ],
      "metadata": {
        "colab": {
          "base_uri": "https://localhost:8080/"
        },
        "id": "NVSFa7ZilD-L",
        "outputId": "b370d55a-eb0c-409b-cda1-854f581e6cfe"
      },
      "execution_count": null,
      "outputs": [
        {
          "output_type": "stream",
          "name": "stdout",
          "text": [
            "2024-01-27 01:52:59.728277\n",
            "2024-01-27\n",
            "2024 1 27\n"
          ]
        },
        {
          "output_type": "execute_result",
          "data": {
            "text/plain": [
              "datetime.date(2024, 2, 26)"
            ]
          },
          "metadata": {},
          "execution_count": 70
        }
      ]
    },
    {
      "cell_type": "code",
      "source": [
        "#19 - Pacote Externo - time\n",
        "\n",
        "import time\n",
        "\n",
        "print ('comecei agora...')\n",
        "time.sleep(3)\n",
        "print ('Terminei...')\n",
        "\n",
        "Agora = time.localtime()\n",
        "print (Agora)\n",
        "\n",
        "time.strftime('%m/%d/%y, %H:%M:%S', Agora)\n",
        "\n",
        "Time_Texto = '21 June, 2021'\n",
        "time.strptime( Time_Texto, '%d %B, %Y')"
      ],
      "metadata": {
        "colab": {
          "base_uri": "https://localhost:8080/"
        },
        "id": "FIX8ELrOpdel",
        "outputId": "f7cc7380-04e2-499c-fcf4-99fbaec205a0"
      },
      "execution_count": null,
      "outputs": [
        {
          "output_type": "stream",
          "name": "stdout",
          "text": [
            "comecei agora...\n",
            "Terminei...\n",
            "time.struct_time(tm_year=2024, tm_mon=1, tm_mday=27, tm_hour=2, tm_min=11, tm_sec=28, tm_wday=5, tm_yday=27, tm_isdst=0)\n"
          ]
        },
        {
          "output_type": "execute_result",
          "data": {
            "text/plain": [
              "time.struct_time(tm_year=2021, tm_mon=6, tm_mday=21, tm_hour=0, tm_min=0, tm_sec=0, tm_wday=0, tm_yday=172, tm_isdst=-1)"
            ]
          },
          "metadata": {},
          "execution_count": 79
        }
      ]
    },
    {
      "cell_type": "code",
      "source": [
        "#20 Pacote Math\n",
        "import math\n",
        "\n",
        "Tupla =(10, 5, 20, 30, 40)\n",
        "\n",
        "min(Tupla) #pegar o valor minimo da tupla\n",
        "max(Tupla) #pegar o valor máximo da tupla\n",
        "\n",
        "abs (-7.25) #Tranforma - em +\n",
        "pow (3,4) #potencia\n",
        "math.sqrt(81) #raiz quadrada\n",
        "math.ceil(1.4) #arredondamento pra cima\n",
        "math.floor (1.4) #arredondamento pra baixo\n",
        "\n"
      ],
      "metadata": {
        "colab": {
          "base_uri": "https://localhost:8080/"
        },
        "id": "dH0A0tWC0ErH",
        "outputId": "8c80e0c4-7e69-431c-9e82-8ea1cf8f8a75"
      },
      "execution_count": null,
      "outputs": [
        {
          "output_type": "execute_result",
          "data": {
            "text/plain": [
              "1"
            ]
          },
          "metadata": {},
          "execution_count": 10
        }
      ]
    },
    {
      "cell_type": "code",
      "source": [
        "#21 - Pacote Random\n",
        "\n",
        "import random\n",
        "\n",
        "Lista = [1, 2, 3, 4, 5, 6, 7, 8]\n",
        "\n",
        "random.choice (Lista) #Sorteia um item aleatorio da lista\n",
        "Palavra = \"Suelen\"\n",
        "random.choice(Palavra) #Sorteia uma letra aleatorio\n",
        "random.random() #Gera um valor aleatório entre 0 a 1\n",
        "random.randint(0, 1000)  #Gera um valor aleatório dentro de um perimetro de 0 a 1000\n"
      ],
      "metadata": {
        "colab": {
          "base_uri": "https://localhost:8080/"
        },
        "id": "CX8xudiB0_v7",
        "outputId": "d1d9e86b-1771-4e33-cb96-ef925a99df52"
      },
      "execution_count": null,
      "outputs": [
        {
          "output_type": "execute_result",
          "data": {
            "text/plain": [
              "449"
            ]
          },
          "metadata": {},
          "execution_count": 17
        }
      ]
    },
    {
      "cell_type": "code",
      "source": [
        "#22 - Pacote Statistics\n",
        "\n",
        "import statistics\n",
        "\n",
        "Lista = [12, 15, 28, 56, 78, 78, 80]\n",
        "\n",
        "statistics.mean(Lista) #Média\n",
        "statistics.median(Lista) #Mediana\n",
        "statistics.mode(Lista) #Moda"
      ],
      "metadata": {
        "colab": {
          "base_uri": "https://localhost:8080/"
        },
        "id": "ajrMyFaK3YqC",
        "outputId": "b342cd31-883a-4710-f1ff-022bd47f6e5b"
      },
      "execution_count": null,
      "outputs": [
        {
          "output_type": "execute_result",
          "data": {
            "text/plain": [
              "78"
            ]
          },
          "metadata": {},
          "execution_count": 24
        }
      ]
    },
    {
      "cell_type": "code",
      "source": [
        "#23 - Condição IF\n",
        "\n",
        "#Condição se a pessoa tiver menos de 18 anos, ela não entra no sistema\n",
        "\n",
        "Idade = 15\n",
        "\n",
        "if Idade >= 18:\n",
        "  print (\"Você é maior de idade\")\n",
        "\n",
        "elif Idade >= 15 and Idade <=17: #ELIF pode se usar quantas vezes quiser e por ultimo cai no ELSE\n",
        "  print (\"Seu responsavel pode autorizar\")\n",
        "\n",
        "else:\n",
        "  print (\"Você é menor de idade\")\n"
      ],
      "metadata": {
        "colab": {
          "base_uri": "https://localhost:8080/"
        },
        "id": "FTfLibWk5cPg",
        "outputId": "08927bf9-ffca-4f71-8181-a0804dc51663"
      },
      "execution_count": null,
      "outputs": [
        {
          "output_type": "stream",
          "name": "stdout",
          "text": [
            "Seu responsavel pode autorizar\n"
          ]
        }
      ]
    },
    {
      "cell_type": "code",
      "source": [
        "#24 - Laço FOR\n",
        "for Sejabemvindo in range(1, 20, 5):\n",
        "  print (Sejabemvindo)"
      ],
      "metadata": {
        "colab": {
          "base_uri": "https://localhost:8080/"
        },
        "id": "WgxCtl168QGV",
        "outputId": "44c2f37c-0b4a-434b-c8ad-6abf68ebb527"
      },
      "execution_count": null,
      "outputs": [
        {
          "output_type": "stream",
          "name": "stdout",
          "text": [
            "1\n",
            "6\n",
            "11\n",
            "16\n"
          ]
        }
      ]
    },
    {
      "cell_type": "code",
      "source": [
        "#25 - Loop While 01\n",
        "\n",
        "Parar = 0\n",
        "\n",
        "while Parar <= 10: #Usar o WHILE quando vc não sabe o fim, caso contrario o mais indicado é o FOR\n",
        "  print(Parar)\n",
        "  Parar +=1\n"
      ],
      "metadata": {
        "colab": {
          "base_uri": "https://localhost:8080/"
        },
        "id": "OnQ0SwlSPp5p",
        "outputId": "32ac40e2-13ea-42b0-a178-b489754a1549"
      },
      "execution_count": null,
      "outputs": [
        {
          "output_type": "stream",
          "name": "stdout",
          "text": [
            "0\n",
            "1\n",
            "2\n",
            "3\n",
            "4\n",
            "5\n",
            "6\n",
            "7\n",
            "8\n",
            "9\n",
            "10\n"
          ]
        }
      ]
    },
    {
      "cell_type": "code",
      "source": [
        "#26 - Break e CONTINUE\n",
        "\n",
        "Lista = ['Morango', 'Uva', 'Abacaxi']\n",
        "\n",
        "for Fruta in Lista:\n",
        "\n",
        "    print ( Fruta )\n",
        "\n",
        "if Fruta == 'Uva':\n",
        "  break\n",
        "\n",
        "for loop in range(0, 11):\n",
        "  if loop == 5:\n",
        "    continue\n",
        "  print('Cheguei aqui mas vou ser ignorado')\n",
        "\n",
        "print (loop)\n"
      ],
      "metadata": {
        "colab": {
          "base_uri": "https://localhost:8080/",
          "height": 192
        },
        "id": "3lsAS7icRfZ8",
        "outputId": "7d58240d-5fa1-4697-ad9a-bb63d0f9e011"
      },
      "execution_count": null,
      "outputs": [
        {
          "output_type": "stream",
          "name": "stdout",
          "text": [
            "Morango\n",
            "Uva\n",
            "Abacaxi\n"
          ]
        },
        {
          "output_type": "error",
          "ename": "SyntaxError",
          "evalue": "'break' outside loop (<ipython-input-58-feb957e5c95d>, line 10)",
          "traceback": [
            "\u001b[0;36m  File \u001b[0;32m\"<ipython-input-58-feb957e5c95d>\"\u001b[0;36m, line \u001b[0;32m10\u001b[0m\n\u001b[0;31m    break\u001b[0m\n\u001b[0m    ^\u001b[0m\n\u001b[0;31mSyntaxError\u001b[0m\u001b[0;31m:\u001b[0m 'break' outside loop\n"
          ]
        }
      ]
    },
    {
      "cell_type": "code",
      "source": [
        "#27 Função\n",
        "\n",
        "#Chama o DEF coloca sua função e depois chama\n",
        "def Boas_vindas():\n",
        "  print('******* eu ******')\n",
        "\n",
        "Boas_vindas()\n",
        "\n",
        "#Somar com função\n",
        "def somar(Valor_1, Valor_2):\n",
        "    soma = Valor_1 + Valor_2\n",
        "    print( soma)\n",
        "somar(10,10)\n",
        "\n",
        "for Loop in range (0, 10):\n",
        "\n",
        "  import random\n",
        "\n",
        "  x = random.random()\n",
        "  y = random.random()\n",
        "\n",
        "somar (x, y)\n"
      ],
      "metadata": {
        "id": "GceYIdeNT3t2",
        "colab": {
          "base_uri": "https://localhost:8080/"
        },
        "outputId": "fe38f655-8c24-4417-dc18-ce6b977b9b8a"
      },
      "execution_count": null,
      "outputs": [
        {
          "output_type": "stream",
          "name": "stdout",
          "text": [
            "******* eu ******\n",
            "20\n",
            "1.1292100105178953\n"
          ]
        }
      ]
    },
    {
      "cell_type": "code",
      "source": [
        "#28 Função Lambda\n",
        "\n",
        "Funcao_Soma = lambda valor: valor + 10\n",
        "Funcao_Soma (1)\n",
        "\n",
        "exemplo = lambda Valor : 'Verdadeiro' if Valor % 2 == 0 else 'Falso'\n",
        "exemplo (4)"
      ],
      "metadata": {
        "colab": {
          "base_uri": "https://localhost:8080/",
          "height": 36
        },
        "id": "GJiGCWemE_Bp",
        "outputId": "bb805b33-1b23-468c-c55d-d1032f93345c"
      },
      "execution_count": null,
      "outputs": [
        {
          "output_type": "execute_result",
          "data": {
            "text/plain": [
              "'Verdadeiro'"
            ],
            "application/vnd.google.colaboratory.intrinsic+json": {
              "type": "string"
            }
          },
          "metadata": {},
          "execution_count": 10
        }
      ]
    },
    {
      "cell_type": "code",
      "source": [
        "#29 Estrutura TRY\n",
        "#TRY: Permite testar um bloco de código quanto a erros.\n",
        "#EXCEPT: Permite que você lide com o erro.\n",
        "#ELSE: Permite executar código quando não há erro.\n",
        "#FINALLY: Permite que você execute código, independentemente do resultado dos blocos try e except\n",
        "\n",
        "try:\n",
        " # 0/0\n",
        "  print ('Deu certo meu script!')\n",
        "\n",
        "except:\n",
        "  print ('Não deu certo!')\n",
        "\n",
        "finally:\n",
        "  print ('Vou ser executado da mesma forma')"
      ],
      "metadata": {
        "colab": {
          "base_uri": "https://localhost:8080/"
        },
        "id": "QdtYsRZ_G_RE",
        "outputId": "9fde3eaa-5c7c-4cdc-fa70-d558bcaac1e1"
      },
      "execution_count": null,
      "outputs": [
        {
          "output_type": "stream",
          "name": "stdout",
          "text": [
            "Deu certo meu script!\n",
            "Vou ser executado da mesma forma\n"
          ]
        }
      ]
    },
    {
      "cell_type": "code",
      "source": [
        "#Aula 30 - Estruturas de Classes e Objetos\n",
        "\n",
        "# Criando classe e objeto\n",
        "class Pessoa:\n",
        "    # Método Construtor da classe\n",
        "    def __init__(self, Nome, Idade):\n",
        "        self.Nome = Nome\n",
        "        self.Idade = Idade\n",
        "\n",
        "    # Método de boas vindas\n",
        "    def Boas_Vindas(self):\n",
        "        print('Olá seja bem-vindo(a),', self.Nome)\n",
        "\n",
        "    # Método de recusa\n",
        "    def Recusado(self):\n",
        "        print('Seu acesso foi recusado!')\n",
        "\n",
        "    # Método para verificar a maioridade\n",
        "    def Maior_Idade(self):\n",
        "        if self.Idade >= 18:\n",
        "            print('Usuário é maior de idade.')\n",
        "            self.Boas_Vindas()\n",
        "        else:\n",
        "            print('Usuário é menor de idade.')\n",
        "            self.Recusado()\n",
        "\n",
        "# Criando um objeto da classe Pessoa\n",
        "Dados = Pessoa('Suelen', 31)\n",
        "\n",
        "# Chamando o método Maior_Idade do objeto Dados\n",
        "Dados.Maior_Idade()\n"
      ],
      "metadata": {
        "colab": {
          "base_uri": "https://localhost:8080/"
        },
        "id": "EXUWYJCRK-Xh",
        "outputId": "3ab08d43-fec7-48fd-b28f-0b6d9eaf2a60"
      },
      "execution_count": null,
      "outputs": [
        {
          "output_type": "stream",
          "name": "stdout",
          "text": [
            "Usuário é maior de idade.\n",
            "Olá seja bem-vindo(a), Suelen\n"
          ]
        }
      ]
    },
    {
      "cell_type": "code",
      "source": [
        "#31 Metodo/Bibliotecas -- Instalado pacote com pip install\n",
        "\n",
        "!pip install pandas\n"
      ],
      "metadata": {
        "colab": {
          "base_uri": "https://localhost:8080/"
        },
        "id": "qSnIvuhAQsQU",
        "outputId": "e4e5a936-58dd-4539-cc3f-c27900b8b9ee"
      },
      "execution_count": null,
      "outputs": [
        {
          "output_type": "stream",
          "name": "stdout",
          "text": [
            "Requirement already satisfied: pandas in /usr/local/lib/python3.10/dist-packages (1.5.3)\n",
            "Requirement already satisfied: python-dateutil>=2.8.1 in /usr/local/lib/python3.10/dist-packages (from pandas) (2.8.2)\n",
            "Requirement already satisfied: pytz>=2020.1 in /usr/local/lib/python3.10/dist-packages (from pandas) (2023.4)\n",
            "Requirement already satisfied: numpy>=1.21.0 in /usr/local/lib/python3.10/dist-packages (from pandas) (1.23.5)\n",
            "Requirement already satisfied: six>=1.5 in /usr/local/lib/python3.10/dist-packages (from python-dateutil>=2.8.1->pandas) (1.16.0)\n"
          ]
        }
      ]
    },
    {
      "cell_type": "code",
      "source": [],
      "metadata": {
        "id": "TsGfJiGwh9tJ"
      },
      "execution_count": null,
      "outputs": []
    },
    {
      "cell_type": "code",
      "source": [
        "# 33 - Overview Pandas"
      ],
      "metadata": {
        "id": "vCJbAaVbTIHb"
      },
      "execution_count": null,
      "outputs": []
    },
    {
      "cell_type": "code",
      "source": [
        "#32 Print Formatado\n",
        "\n",
        "print ('Soma de 2 + 2 é:', 2+2)\n",
        "\n",
        "print ( f'soma de  2 + 2 é: {round (2 + 2)}')\n"
      ],
      "metadata": {
        "colab": {
          "base_uri": "https://localhost:8080/"
        },
        "id": "O9b2hThRSG9N",
        "outputId": "8bdd01e5-32ca-441b-bfc6-e297e029a77c"
      },
      "execution_count": null,
      "outputs": [
        {
          "output_type": "stream",
          "name": "stdout",
          "text": [
            "Soma de 2 + 2 é: 4\n",
            "soma de  2 + 2 é: 4\n"
          ]
        }
      ]
    },
    {
      "cell_type": "code",
      "source": [
        "#36 Introdução Seaborn\n",
        "\n",
        "import numpy as np\n",
        "import pandas as pd\n",
        "import seaborn as sns\n",
        "\n",
        "#Definir tema\n",
        "\n",
        "sns.set_theme(style ='darkgrid')\n",
        "\n",
        "#Dados\n",
        "\n",
        "Base_Dados = sns.load_dataset('tips')\n",
        "\n",
        "#Verificar\n",
        "Base_Dados.head()"
      ],
      "metadata": {
        "colab": {
          "base_uri": "https://localhost:8080/",
          "height": 206
        },
        "id": "B1PyTwjEiE2R",
        "outputId": "1ee032b5-bd43-4c28-8ec7-11001976cdeb"
      },
      "execution_count": null,
      "outputs": [
        {
          "output_type": "execute_result",
          "data": {
            "text/plain": [
              "   total_bill   tip     sex smoker  day    time  size\n",
              "0       16.99  1.01  Female     No  Sun  Dinner     2\n",
              "1       10.34  1.66    Male     No  Sun  Dinner     3\n",
              "2       21.01  3.50    Male     No  Sun  Dinner     3\n",
              "3       23.68  3.31    Male     No  Sun  Dinner     2\n",
              "4       24.59  3.61  Female     No  Sun  Dinner     4"
            ],
            "text/html": [
              "\n",
              "  <div id=\"df-681c281e-8cd0-4351-9d67-84091403bd88\" class=\"colab-df-container\">\n",
              "    <div>\n",
              "<style scoped>\n",
              "    .dataframe tbody tr th:only-of-type {\n",
              "        vertical-align: middle;\n",
              "    }\n",
              "\n",
              "    .dataframe tbody tr th {\n",
              "        vertical-align: top;\n",
              "    }\n",
              "\n",
              "    .dataframe thead th {\n",
              "        text-align: right;\n",
              "    }\n",
              "</style>\n",
              "<table border=\"1\" class=\"dataframe\">\n",
              "  <thead>\n",
              "    <tr style=\"text-align: right;\">\n",
              "      <th></th>\n",
              "      <th>total_bill</th>\n",
              "      <th>tip</th>\n",
              "      <th>sex</th>\n",
              "      <th>smoker</th>\n",
              "      <th>day</th>\n",
              "      <th>time</th>\n",
              "      <th>size</th>\n",
              "    </tr>\n",
              "  </thead>\n",
              "  <tbody>\n",
              "    <tr>\n",
              "      <th>0</th>\n",
              "      <td>16.99</td>\n",
              "      <td>1.01</td>\n",
              "      <td>Female</td>\n",
              "      <td>No</td>\n",
              "      <td>Sun</td>\n",
              "      <td>Dinner</td>\n",
              "      <td>2</td>\n",
              "    </tr>\n",
              "    <tr>\n",
              "      <th>1</th>\n",
              "      <td>10.34</td>\n",
              "      <td>1.66</td>\n",
              "      <td>Male</td>\n",
              "      <td>No</td>\n",
              "      <td>Sun</td>\n",
              "      <td>Dinner</td>\n",
              "      <td>3</td>\n",
              "    </tr>\n",
              "    <tr>\n",
              "      <th>2</th>\n",
              "      <td>21.01</td>\n",
              "      <td>3.50</td>\n",
              "      <td>Male</td>\n",
              "      <td>No</td>\n",
              "      <td>Sun</td>\n",
              "      <td>Dinner</td>\n",
              "      <td>3</td>\n",
              "    </tr>\n",
              "    <tr>\n",
              "      <th>3</th>\n",
              "      <td>23.68</td>\n",
              "      <td>3.31</td>\n",
              "      <td>Male</td>\n",
              "      <td>No</td>\n",
              "      <td>Sun</td>\n",
              "      <td>Dinner</td>\n",
              "      <td>2</td>\n",
              "    </tr>\n",
              "    <tr>\n",
              "      <th>4</th>\n",
              "      <td>24.59</td>\n",
              "      <td>3.61</td>\n",
              "      <td>Female</td>\n",
              "      <td>No</td>\n",
              "      <td>Sun</td>\n",
              "      <td>Dinner</td>\n",
              "      <td>4</td>\n",
              "    </tr>\n",
              "  </tbody>\n",
              "</table>\n",
              "</div>\n",
              "    <div class=\"colab-df-buttons\">\n",
              "\n",
              "  <div class=\"colab-df-container\">\n",
              "    <button class=\"colab-df-convert\" onclick=\"convertToInteractive('df-681c281e-8cd0-4351-9d67-84091403bd88')\"\n",
              "            title=\"Convert this dataframe to an interactive table.\"\n",
              "            style=\"display:none;\">\n",
              "\n",
              "  <svg xmlns=\"http://www.w3.org/2000/svg\" height=\"24px\" viewBox=\"0 -960 960 960\">\n",
              "    <path d=\"M120-120v-720h720v720H120Zm60-500h600v-160H180v160Zm220 220h160v-160H400v160Zm0 220h160v-160H400v160ZM180-400h160v-160H180v160Zm440 0h160v-160H620v160ZM180-180h160v-160H180v160Zm440 0h160v-160H620v160Z\"/>\n",
              "  </svg>\n",
              "    </button>\n",
              "\n",
              "  <style>\n",
              "    .colab-df-container {\n",
              "      display:flex;\n",
              "      gap: 12px;\n",
              "    }\n",
              "\n",
              "    .colab-df-convert {\n",
              "      background-color: #E8F0FE;\n",
              "      border: none;\n",
              "      border-radius: 50%;\n",
              "      cursor: pointer;\n",
              "      display: none;\n",
              "      fill: #1967D2;\n",
              "      height: 32px;\n",
              "      padding: 0 0 0 0;\n",
              "      width: 32px;\n",
              "    }\n",
              "\n",
              "    .colab-df-convert:hover {\n",
              "      background-color: #E2EBFA;\n",
              "      box-shadow: 0px 1px 2px rgba(60, 64, 67, 0.3), 0px 1px 3px 1px rgba(60, 64, 67, 0.15);\n",
              "      fill: #174EA6;\n",
              "    }\n",
              "\n",
              "    .colab-df-buttons div {\n",
              "      margin-bottom: 4px;\n",
              "    }\n",
              "\n",
              "    [theme=dark] .colab-df-convert {\n",
              "      background-color: #3B4455;\n",
              "      fill: #D2E3FC;\n",
              "    }\n",
              "\n",
              "    [theme=dark] .colab-df-convert:hover {\n",
              "      background-color: #434B5C;\n",
              "      box-shadow: 0px 1px 3px 1px rgba(0, 0, 0, 0.15);\n",
              "      filter: drop-shadow(0px 1px 2px rgba(0, 0, 0, 0.3));\n",
              "      fill: #FFFFFF;\n",
              "    }\n",
              "  </style>\n",
              "\n",
              "    <script>\n",
              "      const buttonEl =\n",
              "        document.querySelector('#df-681c281e-8cd0-4351-9d67-84091403bd88 button.colab-df-convert');\n",
              "      buttonEl.style.display =\n",
              "        google.colab.kernel.accessAllowed ? 'block' : 'none';\n",
              "\n",
              "      async function convertToInteractive(key) {\n",
              "        const element = document.querySelector('#df-681c281e-8cd0-4351-9d67-84091403bd88');\n",
              "        const dataTable =\n",
              "          await google.colab.kernel.invokeFunction('convertToInteractive',\n",
              "                                                    [key], {});\n",
              "        if (!dataTable) return;\n",
              "\n",
              "        const docLinkHtml = 'Like what you see? Visit the ' +\n",
              "          '<a target=\"_blank\" href=https://colab.research.google.com/notebooks/data_table.ipynb>data table notebook</a>'\n",
              "          + ' to learn more about interactive tables.';\n",
              "        element.innerHTML = '';\n",
              "        dataTable['output_type'] = 'display_data';\n",
              "        await google.colab.output.renderOutput(dataTable, element);\n",
              "        const docLink = document.createElement('div');\n",
              "        docLink.innerHTML = docLinkHtml;\n",
              "        element.appendChild(docLink);\n",
              "      }\n",
              "    </script>\n",
              "  </div>\n",
              "\n",
              "\n",
              "<div id=\"df-fb2cd153-98a6-420e-92de-8b37e541c644\">\n",
              "  <button class=\"colab-df-quickchart\" onclick=\"quickchart('df-fb2cd153-98a6-420e-92de-8b37e541c644')\"\n",
              "            title=\"Suggest charts\"\n",
              "            style=\"display:none;\">\n",
              "\n",
              "<svg xmlns=\"http://www.w3.org/2000/svg\" height=\"24px\"viewBox=\"0 0 24 24\"\n",
              "     width=\"24px\">\n",
              "    <g>\n",
              "        <path d=\"M19 3H5c-1.1 0-2 .9-2 2v14c0 1.1.9 2 2 2h14c1.1 0 2-.9 2-2V5c0-1.1-.9-2-2-2zM9 17H7v-7h2v7zm4 0h-2V7h2v10zm4 0h-2v-4h2v4z\"/>\n",
              "    </g>\n",
              "</svg>\n",
              "  </button>\n",
              "\n",
              "<style>\n",
              "  .colab-df-quickchart {\n",
              "      --bg-color: #E8F0FE;\n",
              "      --fill-color: #1967D2;\n",
              "      --hover-bg-color: #E2EBFA;\n",
              "      --hover-fill-color: #174EA6;\n",
              "      --disabled-fill-color: #AAA;\n",
              "      --disabled-bg-color: #DDD;\n",
              "  }\n",
              "\n",
              "  [theme=dark] .colab-df-quickchart {\n",
              "      --bg-color: #3B4455;\n",
              "      --fill-color: #D2E3FC;\n",
              "      --hover-bg-color: #434B5C;\n",
              "      --hover-fill-color: #FFFFFF;\n",
              "      --disabled-bg-color: #3B4455;\n",
              "      --disabled-fill-color: #666;\n",
              "  }\n",
              "\n",
              "  .colab-df-quickchart {\n",
              "    background-color: var(--bg-color);\n",
              "    border: none;\n",
              "    border-radius: 50%;\n",
              "    cursor: pointer;\n",
              "    display: none;\n",
              "    fill: var(--fill-color);\n",
              "    height: 32px;\n",
              "    padding: 0;\n",
              "    width: 32px;\n",
              "  }\n",
              "\n",
              "  .colab-df-quickchart:hover {\n",
              "    background-color: var(--hover-bg-color);\n",
              "    box-shadow: 0 1px 2px rgba(60, 64, 67, 0.3), 0 1px 3px 1px rgba(60, 64, 67, 0.15);\n",
              "    fill: var(--button-hover-fill-color);\n",
              "  }\n",
              "\n",
              "  .colab-df-quickchart-complete:disabled,\n",
              "  .colab-df-quickchart-complete:disabled:hover {\n",
              "    background-color: var(--disabled-bg-color);\n",
              "    fill: var(--disabled-fill-color);\n",
              "    box-shadow: none;\n",
              "  }\n",
              "\n",
              "  .colab-df-spinner {\n",
              "    border: 2px solid var(--fill-color);\n",
              "    border-color: transparent;\n",
              "    border-bottom-color: var(--fill-color);\n",
              "    animation:\n",
              "      spin 1s steps(1) infinite;\n",
              "  }\n",
              "\n",
              "  @keyframes spin {\n",
              "    0% {\n",
              "      border-color: transparent;\n",
              "      border-bottom-color: var(--fill-color);\n",
              "      border-left-color: var(--fill-color);\n",
              "    }\n",
              "    20% {\n",
              "      border-color: transparent;\n",
              "      border-left-color: var(--fill-color);\n",
              "      border-top-color: var(--fill-color);\n",
              "    }\n",
              "    30% {\n",
              "      border-color: transparent;\n",
              "      border-left-color: var(--fill-color);\n",
              "      border-top-color: var(--fill-color);\n",
              "      border-right-color: var(--fill-color);\n",
              "    }\n",
              "    40% {\n",
              "      border-color: transparent;\n",
              "      border-right-color: var(--fill-color);\n",
              "      border-top-color: var(--fill-color);\n",
              "    }\n",
              "    60% {\n",
              "      border-color: transparent;\n",
              "      border-right-color: var(--fill-color);\n",
              "    }\n",
              "    80% {\n",
              "      border-color: transparent;\n",
              "      border-right-color: var(--fill-color);\n",
              "      border-bottom-color: var(--fill-color);\n",
              "    }\n",
              "    90% {\n",
              "      border-color: transparent;\n",
              "      border-bottom-color: var(--fill-color);\n",
              "    }\n",
              "  }\n",
              "</style>\n",
              "\n",
              "  <script>\n",
              "    async function quickchart(key) {\n",
              "      const quickchartButtonEl =\n",
              "        document.querySelector('#' + key + ' button');\n",
              "      quickchartButtonEl.disabled = true;  // To prevent multiple clicks.\n",
              "      quickchartButtonEl.classList.add('colab-df-spinner');\n",
              "      try {\n",
              "        const charts = await google.colab.kernel.invokeFunction(\n",
              "            'suggestCharts', [key], {});\n",
              "      } catch (error) {\n",
              "        console.error('Error during call to suggestCharts:', error);\n",
              "      }\n",
              "      quickchartButtonEl.classList.remove('colab-df-spinner');\n",
              "      quickchartButtonEl.classList.add('colab-df-quickchart-complete');\n",
              "    }\n",
              "    (() => {\n",
              "      let quickchartButtonEl =\n",
              "        document.querySelector('#df-fb2cd153-98a6-420e-92de-8b37e541c644 button');\n",
              "      quickchartButtonEl.style.display =\n",
              "        google.colab.kernel.accessAllowed ? 'block' : 'none';\n",
              "    })();\n",
              "  </script>\n",
              "</div>\n",
              "\n",
              "    </div>\n",
              "  </div>\n"
            ],
            "application/vnd.google.colaboratory.intrinsic+json": {
              "type": "dataframe",
              "variable_name": "Base_Dados",
              "summary": "{\n  \"name\": \"Base_Dados\",\n  \"rows\": 244,\n  \"fields\": [\n    {\n      \"column\": \"total_bill\",\n      \"properties\": {\n        \"dtype\": \"number\",\n        \"std\": 8.902411954856856,\n        \"min\": 3.07,\n        \"max\": 50.81,\n        \"samples\": [\n          22.12,\n          20.23,\n          14.78\n        ],\n        \"num_unique_values\": 229,\n        \"semantic_type\": \"\",\n        \"description\": \"\"\n      }\n    },\n    {\n      \"column\": \"tip\",\n      \"properties\": {\n        \"dtype\": \"number\",\n        \"std\": 1.3836381890011822,\n        \"min\": 1.0,\n        \"max\": 10.0,\n        \"samples\": [\n          3.35,\n          1.5,\n          6.73\n        ],\n        \"num_unique_values\": 123,\n        \"semantic_type\": \"\",\n        \"description\": \"\"\n      }\n    },\n    {\n      \"column\": \"sex\",\n      \"properties\": {\n        \"dtype\": \"category\",\n        \"samples\": [\n          \"Male\",\n          \"Female\"\n        ],\n        \"num_unique_values\": 2,\n        \"semantic_type\": \"\",\n        \"description\": \"\"\n      }\n    },\n    {\n      \"column\": \"smoker\",\n      \"properties\": {\n        \"dtype\": \"category\",\n        \"samples\": [\n          \"Yes\",\n          \"No\"\n        ],\n        \"num_unique_values\": 2,\n        \"semantic_type\": \"\",\n        \"description\": \"\"\n      }\n    },\n    {\n      \"column\": \"day\",\n      \"properties\": {\n        \"dtype\": \"category\",\n        \"samples\": [\n          \"Sat\",\n          \"Fri\"\n        ],\n        \"num_unique_values\": 4,\n        \"semantic_type\": \"\",\n        \"description\": \"\"\n      }\n    },\n    {\n      \"column\": \"time\",\n      \"properties\": {\n        \"dtype\": \"category\",\n        \"samples\": [\n          \"Lunch\",\n          \"Dinner\"\n        ],\n        \"num_unique_values\": 2,\n        \"semantic_type\": \"\",\n        \"description\": \"\"\n      }\n    },\n    {\n      \"column\": \"size\",\n      \"properties\": {\n        \"dtype\": \"number\",\n        \"std\": 0,\n        \"min\": 1,\n        \"max\": 6,\n        \"samples\": [\n          2,\n          3\n        ],\n        \"num_unique_values\": 6,\n        \"semantic_type\": \"\",\n        \"description\": \"\"\n      }\n    }\n  ]\n}"
            }
          },
          "metadata": {},
          "execution_count": 2
        }
      ]
    },
    {
      "cell_type": "code",
      "source": [
        "#Renomeando as colunas\n",
        "Base_Dados.rename( columns={\n",
        "    'total_bill': 'Total Conta',\n",
        "    'tip': 'Gorjeta',\n",
        "    'sex':'sexo',\n",
        "    'smoker':'Fumante',\n",
        "    'day': 'Dia',\n",
        "    'time':'Periodo',\n",
        "    'size':'Pessoas na Mesa'}, inplace=True)"
      ],
      "metadata": {
        "id": "xT7l8snqjGjc"
      },
      "execution_count": null,
      "outputs": []
    },
    {
      "cell_type": "code",
      "source": [
        "#Gráfico relplot\n",
        "sns.relplot( x ='Total Conta', y='Gorjeta', data=Base_Dados);"
      ],
      "metadata": {
        "colab": {
          "base_uri": "https://localhost:8080/",
          "height": 501
        },
        "id": "wLSDPv6qlAT2",
        "outputId": "ca0d811c-5251-48fd-fb1b-e090808b385c"
      },
      "execution_count": null,
      "outputs": [
        {
          "output_type": "display_data",
          "data": {
            "text/plain": [
              "<Figure size 500x500 with 1 Axes>"
            ],
            "image/png": "[encoded data removed]"
          },
          "metadata": {}
        }
      ]
    }
  ]
}