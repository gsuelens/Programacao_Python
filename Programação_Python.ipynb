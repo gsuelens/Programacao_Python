{
  "nbformat": 4,
  "nbformat_minor": 0,
  "metadata": {
    "colab": {
      "provenance": [],
      "authorship_tag": "ABX9TyOC0KkWLGwd6bPWzNLvv+o2",
      "include_colab_link": true
    },
    "kernelspec": {
      "name": "python3",
      "display_name": "Python 3"
    },
    "language_info": {
      "name": "python"
    }
  },
  "cells": [
    {
      "cell_type": "markdown",
      "metadata": {
        "id": "view-in-github",
        "colab_type": "text"
      },
      "source": [
        "<a href=\"https://colab.research.google.com/github/gsuelens/Programacao_Python/blob/main/Programa%C3%A7%C3%A3o_Python.ipynb\" target=\"_parent\"><img src=\"https://colab.research.google.com/assets/colab-badge.svg\" alt=\"Open In Colab\"/></a>"
      ]
    },
    {
      "cell_type": "code",
      "execution_count": null,
      "metadata": {
        "id": "e0Jkw-hKnG5H",
        "colab": {
          "base_uri": "https://localhost:8080/"
        },
        "outputId": "f30e191b-e38e-40ed-e1cc-f660a5445011"
      },
      "outputs": [
        {
          "output_type": "stream",
          "name": "stdout",
          "text": [
            "1 2 3\n"
          ]
        }
      ],
      "source": [
        "#Nomeação de variaveis\n",
        "Laranja, melao, limao = 1,2,3\n",
        "\n",
        "print(Laranja, melao, limao)"
      ]
    },
    {
      "cell_type": "code",
      "source": [
        "morango = uva = kiwi = 100\n",
        "print(morango, uva, kiwi)"
      ],
      "metadata": {
        "colab": {
          "base_uri": "https://localhost:8080/"
        },
        "id": "g1SIgbaCyMb9",
        "outputId": "3e71d7d6-0144-4779-911c-95408f33569c"
      },
      "execution_count": null,
      "outputs": [
        {
          "output_type": "stream",
          "name": "stdout",
          "text": [
            "100 100 100\n"
          ]
        }
      ]
    },
    {
      "cell_type": "code",
      "source": [
        "#Nomear listas\n",
        "lista_carros = ['w','audi','tesla']\n",
        "marca_01, marca_02, marca_03 = lista_carros\n",
        "print (lista_carros)"
      ],
      "metadata": {
        "colab": {
          "base_uri": "https://localhost:8080/"
        },
        "id": "R10uU7OlyS63",
        "outputId": "36a67edf-75d6-4890-8e5d-e79b1e3c849c"
      },
      "execution_count": null,
      "outputs": [
        {
          "output_type": "stream",
          "name": "stdout",
          "text": [
            "['w', 'audi', 'tesla']\n"
          ]
        }
      ]
    },
    {
      "cell_type": "code",
      "source": [
        "#combinar variveis\n",
        "Nome = 'Suelen'\n",
        "Sobrenome = 'Soares'\n",
        "Nome_Completo = Nome + ' ' + Sobrenome\n",
        "print (Nome_Completo)"
      ],
      "metadata": {
        "colab": {
          "base_uri": "https://localhost:8080/"
        },
        "id": "C7sK0Gizyugk",
        "outputId": "1544ab26-e665-4b30-8ea6-62baad3feb9b"
      },
      "execution_count": null,
      "outputs": [
        {
          "output_type": "stream",
          "name": "stdout",
          "text": [
            "Suelen Soares\n"
          ]
        }
      ]
    },
    {
      "cell_type": "code",
      "source": [
        "#Experimento\n",
        "Nome = 'Suelen'\n",
        "Idade = str (31)\n",
        "Nome_idade =  Nome + Idade + ' anos'\n",
        "print (Nome_idade)"
      ],
      "metadata": {
        "colab": {
          "base_uri": "https://localhost:8080/"
        },
        "id": "dyiwHe9ezRNU",
        "outputId": "74485c16-1253-4002-a2ae-7f9867f1c372"
      },
      "execution_count": null,
      "outputs": [
        {
          "output_type": "stream",
          "name": "stdout",
          "text": [
            "Suelen31 anos\n"
          ]
        }
      ]
    },
    {
      "cell_type": "code",
      "source": [
        "# 07 Aula\n",
        "string = str('Olá Mundo')\n",
        "Inteiro = int(31)\n",
        "Flutuante = float(100.5)\n",
        "Complex = complex (1j)\n",
        "Lista = list( ('Uva', 'Morango'))\n",
        "Tupla = tuple (('A', 'B'))\n",
        "Range =  range(6)\n",
        "Dicionario = dict (nome = 'suelen', age=30)\n",
        "Set = set (('A', 'B', 'C'))\n",
        "Fronzet = frozenset (('A','B','C'))\n",
        "Boleano = bool (5)\n",
        "Bytes = bytes(5)\n",
        "Bytearray = bytearray ( 5 )\n",
        "\n",
        "\n",
        "from datetime import datetime\n",
        "Data  = datetime.today().date()"
      ],
      "metadata": {
        "id": "xHwTbhvb0LVt"
      },
      "execution_count": null,
      "outputs": []
    },
    {
      "cell_type": "code",
      "source": [
        "# 8 Comando Roud\n",
        "Valor_Exemplo = 12.123456789\n",
        "print (Valor_Exemplo)\n",
        "round (Valor_Exemplo)"
      ],
      "metadata": {
        "id": "QdoRYI5F2UXJ",
        "colab": {
          "base_uri": "https://localhost:8080/"
        },
        "outputId": "96e45c48-e670-49d3-c227-0e7c53aff760"
      },
      "execution_count": 3,
      "outputs": [
        {
          "output_type": "stream",
          "name": "stdout",
          "text": [
            "12.123456789\n"
          ]
        }
      ]
    },
    {
      "cell_type": "code",
      "source": [
        "# 9 Comando len\n",
        "\n",
        "Lista = [1,2,3,4,5,6,7,8,9,10]\n",
        "Dicionario = {'Nome':'Suelen','Idade':31}\n",
        "Tupla = (1,2,3)\n",
        "String = 'Olá Su!'\n",
        "\n",
        "len(String)"
      ],
      "metadata": {
        "colab": {
          "base_uri": "https://localhost:8080/"
        },
        "id": "WDfwen_RD9uM",
        "outputId": "aedbb9ee-c26f-4e8c-b2cb-9cbd561c4537"
      },
      "execution_count": 14,
      "outputs": [
        {
          "output_type": "execute_result",
          "data": {
            "text/plain": [
              "7"
            ]
          },
          "metadata": {},
          "execution_count": 14
        }
      ]
    },
    {
      "cell_type": "code",
      "source": [
        "# 10 Fatiamento de Strings\n",
        "Minha_String = 'Aprender Python é Top'\n",
        "\n",
        "print ( type(Minha_String ))\n",
        "print ( len(Minha_String))\n",
        "\n",
        "Minha_String[0:8] #Pega o numero da posição da letra dentro da string"
      ],
      "metadata": {
        "colab": {
          "base_uri": "https://localhost:8080/",
          "height": 70
        },
        "id": "yuRYgs8YFxNU",
        "outputId": "89a1b0e9-db14-47a7-c4a2-c418939a1fec"
      },
      "execution_count": 22,
      "outputs": [
        {
          "output_type": "stream",
          "name": "stdout",
          "text": [
            "<class 'str'>\n",
            "21\n"
          ]
        },
        {
          "output_type": "execute_result",
          "data": {
            "text/plain": [
              "'Aprender'"
            ],
            "application/vnd.google.colaboratory.intrinsic+json": {
              "type": "string"
            }
          },
          "metadata": {},
          "execution_count": 22
        }
      ]
    },
    {
      "cell_type": "code",
      "source": [
        "# 11 Manipulação de String\n",
        "\n",
        "String = 'Olá Mundão!'\n",
        "print(String)\n",
        "\n",
        "\n",
        "#Replace: Substituir\n",
        "String.replace('Mundão','Mundo')\n",
        "\n",
        "#Startswith: Verifica o começo\n",
        "String.startswith('Olá')\n",
        "\n",
        "#Endswith: Verifica o Final\n",
        "String.endswith('dão!')\n",
        "\n",
        "#Count: Contar Palavras ou letras\n",
        "String.count('n')\n",
        "\n",
        "#Capitalize: Tranforma o texto\n",
        "Nome = 'suelen'\n",
        "Nome.capitalize()\n",
        "\n",
        "# Isdigit: Verifica se existe digito (numerico) dentro de strig\n",
        "String_CPF = '123456789'\n",
        "String_CPF.isdigit()\n"
      ],
      "metadata": {
        "colab": {
          "base_uri": "https://localhost:8080/"
        },
        "id": "H_VmVZPXIYDh",
        "outputId": "708859cb-de85-4731-ad17-02fa48d0d400"
      },
      "execution_count": 41,
      "outputs": [
        {
          "output_type": "stream",
          "name": "stdout",
          "text": [
            "Olá Mundão!\n"
          ]
        },
        {
          "output_type": "execute_result",
          "data": {
            "text/plain": [
              "True"
            ]
          },
          "metadata": {},
          "execution_count": 41
        }
      ]
    },
    {
      "cell_type": "code",
      "source": [
        "\n",
        "# 12 Comando Input\n",
        "\n",
        "input('Alguma mensagem')\n",
        "\n",
        "#Criando um formulario\n",
        "\n",
        "Nome = input('Qual seu nome?')\n",
        "Idade = input('Qual a sua idade?')\n",
        "\n",
        "print ('Seu nome é:', Nome)\n",
        "print ('Sua idade é:', Idade)"
      ],
      "metadata": {
        "colab": {
          "base_uri": "https://localhost:8080/"
        },
        "id": "X25-OimiIpb5",
        "outputId": "be711ab1-ba4c-4efb-cb40-d519684531dc"
      },
      "execution_count": 46,
      "outputs": [
        {
          "output_type": "stream",
          "name": "stdout",
          "text": [
            "Alguma mensagemoi\n",
            "Qual seu nome?su\n",
            "Qual a sua idade?31\n",
            "Seu nome é: su\n",
            "Sua idade é: 31\n"
          ]
        }
      ]
    },
    {
      "cell_type": "code",
      "source": [
        "# 13 Operadores de Comparação\n",
        "\n",
        "10 == 10\n",
        "10 == 8\n",
        "10 != 8\n",
        "10 != 10\n",
        "10 > 9\n",
        "10 < 2\n",
        "10 <= 5\n",
        "10 >= 50"
      ],
      "metadata": {
        "colab": {
          "base_uri": "https://localhost:8080/"
        },
        "id": "GAZg87IzNbKJ",
        "outputId": "4da583d2-8174-4f7a-c06f-24adc6baee72"
      },
      "execution_count": 54,
      "outputs": [
        {
          "output_type": "execute_result",
          "data": {
            "text/plain": [
              "False"
            ]
          },
          "metadata": {},
          "execution_count": 54
        }
      ]
    }
  ]
}