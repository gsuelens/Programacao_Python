{
  "nbformat": 4,
  "nbformat_minor": 0,
  "metadata": {
    "colab": {
      "provenance": [],
      "authorship_tag": "ABX9TyM96RfeSw+mqtbwJzfFLCiS",
      "include_colab_link": true
    },
    "kernelspec": {
      "name": "python3",
      "display_name": "Python 3"
    },
    "language_info": {
      "name": "python"
    }
  },
  "cells": [
    {
      "cell_type": "markdown",
      "metadata": {
        "id": "view-in-github",
        "colab_type": "text"
      },
      "source": [
        "<a href=\"https://colab.research.google.com/github/gsuelens/Programacao_Python/blob/main/Programa%C3%A7%C3%A3o_Python.ipynb\" target=\"_parent\"><img src=\"https://colab.research.google.com/assets/colab-badge.svg\" alt=\"Open In Colab\"/></a>"
      ]
    },
    {
      "cell_type": "code",
      "execution_count": null,
      "metadata": {
        "id": "e0Jkw-hKnG5H",
        "colab": {
          "base_uri": "https://localhost:8080/"
        },
        "outputId": "f30e191b-e38e-40ed-e1cc-f660a5445011"
      },
      "outputs": [
        {
          "output_type": "stream",
          "name": "stdout",
          "text": [
            "1 2 3\n"
          ]
        }
      ],
      "source": [
        "#Nomeação de variaveis\n",
        "Laranja, melao, limao = 1,2,3\n",
        "\n",
        "print(Laranja, melao, limao)"
      ]
    },
    {
      "cell_type": "code",
      "source": [
        "morango = uva = kiwi = 100\n",
        "print(morango, uva, kiwi)"
      ],
      "metadata": {
        "colab": {
          "base_uri": "https://localhost:8080/"
        },
        "id": "g1SIgbaCyMb9",
        "outputId": "3e71d7d6-0144-4779-911c-95408f33569c"
      },
      "execution_count": null,
      "outputs": [
        {
          "output_type": "stream",
          "name": "stdout",
          "text": [
            "100 100 100\n"
          ]
        }
      ]
    },
    {
      "cell_type": "code",
      "source": [
        "#Nomear listas\n",
        "lista_carros = ['w','audi','tesla']\n",
        "marca_01, marca_02, marca_03 = lista_carros\n",
        "print (lista_carros)"
      ],
      "metadata": {
        "colab": {
          "base_uri": "https://localhost:8080/"
        },
        "id": "R10uU7OlyS63",
        "outputId": "36a67edf-75d6-4890-8e5d-e79b1e3c849c"
      },
      "execution_count": null,
      "outputs": [
        {
          "output_type": "stream",
          "name": "stdout",
          "text": [
            "['w', 'audi', 'tesla']\n"
          ]
        }
      ]
    },
    {
      "cell_type": "code",
      "source": [
        "#combinar vari\n",
        "Nome = 'Suelen'\n",
        "Sobrenome = 'Soares'\n",
        "Nome_Completo = Nome + ' ' + Sobrenome\n",
        "print (Nome_Completo)"
      ],
      "metadata": {
        "colab": {
          "base_uri": "https://localhost:8080/"
        },
        "id": "C7sK0Gizyugk",
        "outputId": "1544ab26-e665-4b30-8ea6-62baad3feb9b"
      },
      "execution_count": null,
      "outputs": [
        {
          "output_type": "stream",
          "name": "stdout",
          "text": [
            "Suelen Soares\n"
          ]
        }
      ]
    },
    {
      "cell_type": "code",
      "source": [
        "#Experimento\n",
        "Nome = 'Suelen'\n",
        "Idade = str (31)\n",
        "Nome_idade =  Nome + Idade + ' anos'\n",
        "print (Nome_idade)"
      ],
      "metadata": {
        "colab": {
          "base_uri": "https://localhost:8080/"
        },
        "id": "dyiwHe9ezRNU",
        "outputId": "74485c16-1253-4002-a2ae-7f9867f1c372"
      },
      "execution_count": null,
      "outputs": [
        {
          "output_type": "stream",
          "name": "stdout",
          "text": [
            "Suelen31 anos\n"
          ]
        }
      ]
    },
    {
      "cell_type": "code",
      "source": [
        "#Aula 07\n",
        "string = str('Olá Mundo')\n",
        "Inteiro = int(31)\n",
        "Flutuante = float(100.5)\n",
        "Complex = complex (1j)\n",
        "Lista = list( ('Uva', 'Morango'))\n",
        "Tupla = tuple (('A', 'B'))\n",
        "Range =  range(6)\n",
        "Dicionario = dict (nome = 'suelen', age=30)\n",
        "Set = set (('A', 'B', 'C'))\n",
        "Fronzet = frozenset (('A','B','C'))\n",
        "Boleano = bool (5)\n",
        "Bytes = bytes(5)\n",
        "Bytearray = bytearray ( 5 )\n",
        "\n",
        "\n",
        "from datetime import datetime\n",
        "Data  = datetime.today().date()"
      ],
      "metadata": {
        "id": "xHwTbhvb0LVt"
      },
      "execution_count": null,
      "outputs": []
    },
    {
      "cell_type": "code",
      "source": [
        "#Comando Roud\n",
        "Valor_Exemplo = 12.123456789\n",
        "print (Valor_Exemplo)"
      ],
      "metadata": {
        "id": "QdoRYI5F2UXJ",
        "colab": {
          "base_uri": "https://localhost:8080/"
        },
        "outputId": "96e45c48-e670-49d3-c227-0e7c53aff760"
      },
      "execution_count": 3,
      "outputs": [
        {
          "output_type": "stream",
          "name": "stdout",
          "text": [
            "12.123456789\n"
          ]
        }
      ]
    },
    {
      "cell_type": "code",
      "source": [
        "round (Valor_Exemplo)"
      ],
      "metadata": {
        "colab": {
          "base_uri": "https://localhost:8080/"
        },
        "id": "80honuW4DFSa",
        "outputId": "35aa1c95-e1ac-4471-caff-8d282d643f23"
      },
      "execution_count": 4,
      "outputs": [
        {
          "output_type": "execute_result",
          "data": {
            "text/plain": [
              "12"
            ]
          },
          "metadata": {},
          "execution_count": 4
        }
      ]
    },
    {
      "cell_type": "code",
      "source": [
        "#Comando len\n",
        "\n",
        "Lista = [1,2,3,4,5,6,7,8,9,10]\n",
        "Dicionario = {'Nome':'Suelen','Idade':31}\n",
        "Tupla = (1,2,3)\n",
        "String = 'Olá Su!'\n",
        "\n",
        "len(String)"
      ],
      "metadata": {
        "colab": {
          "base_uri": "https://localhost:8080/"
        },
        "id": "WDfwen_RD9uM",
        "outputId": "aedbb9ee-c26f-4e8c-b2cb-9cbd561c4537"
      },
      "execution_count": 14,
      "outputs": [
        {
          "output_type": "execute_result",
          "data": {
            "text/plain": [
              "7"
            ]
          },
          "metadata": {},
          "execution_count": 14
        }
      ]
    },
    {
      "cell_type": "code",
      "source": [
        "#Fatiamento de Strings\n",
        "Minha_String = 'Aprender Python é Top'\n",
        "\n",
        "print ( type(Minha_String ))\n",
        "print ( len(Minha_String))\n",
        "\n",
        "Minha_String[0:8] #Pega o numero da posição da letra dentro da string"
      ],
      "metadata": {
        "colab": {
          "base_uri": "https://localhost:8080/",
          "height": 70
        },
        "id": "yuRYgs8YFxNU",
        "outputId": "89a1b0e9-db14-47a7-c4a2-c418939a1fec"
      },
      "execution_count": 22,
      "outputs": [
        {
          "output_type": "stream",
          "name": "stdout",
          "text": [
            "<class 'str'>\n",
            "21\n"
          ]
        },
        {
          "output_type": "execute_result",
          "data": {
            "text/plain": [
              "'Aprender'"
            ],
            "application/vnd.google.colaboratory.intrinsic+json": {
              "type": "string"
            }
          },
          "metadata": {},
          "execution_count": 22
        }
      ]
    }
  ]
}